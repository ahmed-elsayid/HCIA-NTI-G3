{
 "cells": [
  {
   "cell_type": "markdown",
   "metadata": {},
   "source": [
    "# Within-Cluster Sum of Squares (WCSS) or Inertia:"
   ]
  },
  {
   "cell_type": "code",
   "execution_count": 32,
   "metadata": {},
   "outputs": [],
   "source": [
    "\n",
    "import pandas as pd\n",
    "\n",
    "from sklearn.cluster import KMeans\n",
    "from sklearn.preprocessing import MinMaxScaler\n",
    "from matplotlib import pyplot as plt\n",
    "from sklearn.metrics import silhouette_score"
   ]
  },
  {
   "cell_type": "code",
   "execution_count": 43,
   "metadata": {},
   "outputs": [
    {
     "name": "stdout",
     "output_type": "stream",
     "text": [
      "WCSS (Inertia) values for different clusters:  [5.434011511988179, 2.091136388699078, 0.4750783498553097, 0.38815291664787444, 0.3198981120367373, 0.22443334487241415]\n",
      "The optimal number of clusters is: 6\n"
     ]
    }
   ],
   "source": [
    "import pandas as pd\n",
    "import matplotlib.pyplot as plt\n",
    "from sklearn.cluster import KMeans\n",
    "\n",
    "# Load data\n",
    "df = pd.read_csv(\"income.csv\")\n",
    "# List to store WCSS (Inertia) values\n",
    "accuracy = []\n",
    "scaler=MinMaxScaler()\n",
    "df[['Income($)']]=scaler.fit_transform(df[['Income($)']])\n",
    "df[['Age']]=scaler.fit_transform(df[['Age']])\n",
    "# Loop over different numbers of clusters\n",
    "for i in range( 1,7):\n",
    "    KM = KMeans(n_clusters=i)\n",
    "    KM.fit(df[['Age', 'Income($)']])\n",
    "    df['cluster'] = KM.fit_predict(df[['Age', 'Income($)']])\n",
    "    accuracy.append(KM.inertia_)\n",
    "\n",
    "print(\"WCSS (Inertia) values for different clusters: \", accuracy)\n",
    "optimal_clusters = accuracy.index(min(accuracy)) + 1\n",
    "print(f\"The optimal number of clusters is: {optimal_clusters}\")\n"
   ]
  },
  {
   "cell_type": "code",
   "execution_count": 44,
   "metadata": {},
   "outputs": [
    {
     "name": "stdout",
     "output_type": "stream",
     "text": [
      "[[0.1372549  0.11633428]\n",
      " [0.72268908 0.8974359 ]\n",
      " [0.85294118 0.2022792 ]]\n"
     ]
    },
    {
     "data": {
      "text/plain": [
       "<matplotlib.collections.PathCollection at 0x7f5b8326d850>"
      ]
     },
     "execution_count": 44,
     "metadata": {},
     "output_type": "execute_result"
    },
    {
     "data": {
      "image/png": "[encoded data removed]",
      "text/plain": [
       "<Figure size 640x480 with 1 Axes>"
      ]
     },
     "metadata": {},
     "output_type": "display_data"
    }
   ],
   "source": [
    "KM = KMeans(n_clusters=3)\n",
    "KM.fit(df[['Age', 'Income($)']])\n",
    "df['cluster'] = KM.fit_predict(df[['Age', 'Income($)']])\n",
    "print(KM.cluster_centers_)\n",
    "df1=df[df.cluster==0]\n",
    "df2=df[df.cluster==1]\n",
    "df3=df[df.cluster==2]\n",
    "df4=df[df.cluster==3]\n",
    "\n",
    "plt.scatter(df1.Age,df1['Income($)'],color='green')\n",
    "plt.scatter(df2.Age,df2['Income($)'],color='red')\n",
    "plt.scatter(df3.Age,df3['Income($)'],color='black')\n",
    "plt.scatter(df4.Age,df4['Income($)'],color='blue')\n",
    "\n",
    "\n",
    "plt.scatter(KM.cluster_centers_[:,0],KM.cluster_centers_[:,1],color='purple',marker='*',label='centroid')"
   ]
  },
  {
   "cell_type": "markdown",
   "metadata": {},
   "source": [
    "# Silhouette Score:\n",
    "\n"
   ]
  },
  {
   "cell_type": "code",
   "execution_count": 42,
   "metadata": {},
   "outputs": [
    {
     "name": "stdout",
     "output_type": "stream",
     "text": [
      "Silhouette Scores for different clusters:  [np.float64(0.5305186573468941), np.float64(0.7129710183539274), np.float64(0.6136128946575949), np.float64(0.46631248804199604), np.float64(0.4578707399007253)]\n",
      "The optimal number of clusters is: 3\n"
     ]
    }
   ],
   "source": [
    "import pandas as pd\n",
    "from sklearn.preprocessing import MinMaxScaler\n",
    "from sklearn.cluster import KMeans\n",
    "from sklearn.metrics import silhouette_score\n",
    "\n",
    "# Load data\n",
    "df = pd.read_csv(\"income.csv\")\n",
    "\n",
    "# Scaling the features\n",
    "scaler = MinMaxScaler()\n",
    "df[['Income($)']] = scaler.fit_transform(df[['Income($)']])\n",
    "df[['Age']] = scaler.fit_transform(df[['Age']])\n",
    "\n",
    "# List to store Silhouette Score values\n",
    "accuracy = []\n",
    "\n",
    "# Loop over different numbers of clusters\n",
    "for i in range(2, 7):  # Start from 2 because Silhouette Score is not defined for 1 cluster\n",
    "    KM = KMeans(n_clusters=i, random_state=42)\n",
    "    fit = KM.fit(df[['Age', 'Income($)']])\n",
    "    df['cluster'] = KM.fit_predict(df[['Age', 'Income($)']])\n",
    "    \n",
    "    # Calculate Silhouette Score and append it\n",
    "    score = silhouette_score(df[['Age', 'Income($)']], KM.labels_)\n",
    "    accuracy.append(score)\n",
    "\n",
    "# Print Silhouette Score values\n",
    "print(\"Silhouette Scores for different clusters: \", accuracy)\n",
    "\n",
    "# Determine the number of clusters with the maximum Silhouette Score\n",
    "optimal_clusters = accuracy.index(max(accuracy)) + 2  # +2 because the loop started at 2\n",
    "print(f\"The optimal number of clusters is: {optimal_clusters}\")\n"
   ]
  }
 ],
 "metadata": {
  "kernelspec": {
   "display_name": "quant",
   "language": "python",
   "name": "python3"
  },
  "language_info": {
   "codemirror_mode": {
    "name": "ipython",
    "version": 3
   },
   "file_extension": ".py",
   "mimetype": "text/x-python",
   "name": "python",
   "nbconvert_exporter": "python",
   "pygments_lexer": "ipython3",
   "version": "3.12.4"
  }
 },
 "nbformat": 4,
 "nbformat_minor": 2
}
