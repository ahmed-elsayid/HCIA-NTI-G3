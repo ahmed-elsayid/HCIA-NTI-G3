{
 "cells": [
  {
   "cell_type": "markdown",
   "metadata": {},
   "source": [
    "apply label encoding on more than 2 columns\n",
    "\n"
   ]
  },
  {
   "cell_type": "markdown",
   "metadata": {},
   "source": [
    "one way usin multple encoder for each column\n",
    "\n",
    "\n"
   ]
  },
  {
   "cell_type": "code",
   "execution_count": 2,
   "metadata": {},
   "outputs": [
    {
     "name": "stdout",
     "output_type": "stream",
     "text": [
      "   Color  Fruit  Category  Season\n",
      "0      2      0         0       2\n",
      "1      1      5         0       2\n",
      "2      0      3         0       3\n",
      "3      2      4         0       1\n",
      "4      3      1         0       2\n",
      "5      1      6         0       3\n",
      "6      0      2         0       0\n",
      "7      3      7         0       1\n"
     ]
    }
   ],
   "source": [
    "import pandas as pd\n",
    "from sklearn.preprocessing import LabelEncoder\n",
    "\n",
    "df=pd.read_csv('datatest.csv')\n",
    "color_encoder = LabelEncoder()\n",
    "fruit_encoder = LabelEncoder()\n",
    "categorry_encoder = LabelEncoder()\n",
    "season_encoder = LabelEncoder()\n",
    "\n",
    "df['Color'] = color_encoder.fit_transform(df['Color'])\n",
    "df['Fruit'] = fruit_encoder.fit_transform(df['Fruit'])\n",
    "df['Category'] = categorry_encoder.fit_transform(df['Category'])\n",
    "df['Season'] = season_encoder.fit_transform(df['Season'])\n",
    "\n",
    "\n",
    "print(df)\n",
    "\n",
    "\n"
   ]
  },
  {
   "cell_type": "markdown",
   "metadata": {},
   "source": [
    "using one endcoder for all columns\n"
   ]
  },
  {
   "cell_type": "code",
   "execution_count": 4,
   "metadata": {},
   "outputs": [
    {
     "name": "stdout",
     "output_type": "stream",
     "text": [
      "   Color  Fruit  Category  Season\n",
      "0      2      0         0       2\n",
      "1      1      5         0       2\n",
      "2      0      3         0       3\n",
      "3      2      4         0       1\n",
      "4      3      1         0       2\n",
      "5      1      6         0       3\n",
      "6      0      2         0       0\n",
      "7      3      7         0       1\n"
     ]
    }
   ],
   "source": [
    "df1=pd.read_csv('datatest.csv')\n",
    "encoder = LabelEncoder()\n",
    "a=df.apply(encoder.fit_transform)\n",
    "\n",
    "print(a)"
   ]
  }
 ],
 "metadata": {
  "kernelspec": {
   "display_name": "quant",
   "language": "python",
   "name": "python3"
  },
  "language_info": {
   "codemirror_mode": {
    "name": "ipython",
    "version": 3
   },
   "file_extension": ".py",
   "mimetype": "text/x-python",
   "name": "python",
   "nbconvert_exporter": "python",
   "pygments_lexer": "ipython3",
   "version": "3.12.4"
  }
 },
 "nbformat": 4,
 "nbformat_minor": 2
}
