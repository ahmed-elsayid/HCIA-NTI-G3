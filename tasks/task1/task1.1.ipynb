{
 "cells": [
  {
   "cell_type": "markdown",
   "metadata": {},
   "source": [
    "\n",
    "1 add  rows in existed excel file"
   ]
  },
  {
   "cell_type": "code",
   "execution_count": 6,
   "metadata": {},
   "outputs": [
    {
     "name": "stdout",
     "output_type": "stream",
     "text": [
      "            Name  Age         City\n",
      "0    Alice Brown   25      Chicago\n",
      "1  Charlie Black   45      Houston\n",
      "2       John Doe   28     New York\n",
      "3     Jane Smith   34  Los Angeles\n",
      "4           hmed   18        egypt\n"
     ]
    }
   ],
   "source": [
    "import pandas as pd\n",
    "import numpy as np  \n",
    "\n",
    "df1 = pd.read_excel('existing Excel file.xlsx')\n",
    "new_row = pd.DataFrame({\"Name\": [\"hmed\"], \"Age\": [18], \"City\": [\"egypt\"]})\n",
    "# df1.add(new_row, fill_value=0)\n",
    "# print(df1)\n",
    "# print(new_row)\n",
    "df_combined = pd.concat([df1, new_row], ignore_index=True)\n",
    "df_combined.drop_duplicates(subset=['Name'], keep='first', inplace=True)\n",
    "df_combined.to_excel('combined Excel file.xlsx', index=False)\n",
    "print(df_combined)  \n",
    "\n",
    "  "
   ]
  }
 ],
 "metadata": {
  "kernelspec": {
   "display_name": "quant",
   "language": "python",
   "name": "python3"
  },
  "language_info": {
   "codemirror_mode": {
    "name": "ipython",
    "version": 3
   },
   "file_extension": ".py",
   "mimetype": "text/x-python",
   "name": "python",
   "nbconvert_exporter": "python",
   "pygments_lexer": "ipython3",
   "version": "3.12.4"
  }
 },
 "nbformat": 4,
 "nbformat_minor": 2
}
