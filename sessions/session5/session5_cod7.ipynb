{
 "cells": [
  {
   "cell_type": "code",
   "execution_count": 2,
   "metadata": {},
   "outputs": [],
   "source": [
    "import cv2\n",
    "import numpy as np"
   ]
  },
  {
   "cell_type": "markdown",
   "metadata": {},
   "source": [
    "lowpass filter"
   ]
  },
  {
   "cell_type": "markdown",
   "metadata": {},
   "source": [
    "1.Averarge "
   ]
  },
  {
   "cell_type": "code",
   "execution_count": 1,
   "metadata": {},
   "outputs": [],
   "source": [
    "import cv2\n",
    "imgage=cv2.imread(\"download.jpg\")\n",
    "\n",
    "blurImage=cv2.blur(imgage,(5,5))\n",
    "cv2.imshow(\"blurImage\",blurImage)\n",
    "cv2.waitKey(0)\n",
    "cv2.destroyAllWindows()"
   ]
  },
  {
   "cell_type": "markdown",
   "metadata": {},
   "source": [
    "2.gaussina"
   ]
  },
  {
   "cell_type": "code",
   "execution_count": 2,
   "metadata": {},
   "outputs": [],
   "source": [
    "Gaussian=cv2.GaussianBlur(imgage,(5,5),0)\n",
    "cv2.imshow(\"Gaussian\",Gaussian)\n",
    "cv2.waitKey(0)\n",
    "cv2.destroyAllWindows()\n"
   ]
  },
  {
   "cell_type": "markdown",
   "metadata": {},
   "source": [
    "3.Median Bllur"
   ]
  },
  {
   "cell_type": "code",
   "execution_count": 3,
   "metadata": {},
   "outputs": [],
   "source": [
    "Median=cv2.medianBlur(imgage,5)\n",
    "cv2.imshow(\"Median\",Median)\n",
    "cv2.waitKey(0)\n",
    "cv2.destroyAllWindows()"
   ]
  },
  {
   "cell_type": "markdown",
   "metadata": {},
   "source": [
    "4.lateral Blur"
   ]
  },
  {
   "cell_type": "code",
   "execution_count": 4,
   "metadata": {},
   "outputs": [],
   "source": [
    "teralimage=cv2.bilateralFilter(imgage,9,75,75)\n",
    "cv2.imshow(\"teralimage\",teralimage)\n",
    "cv2.waitKey(0)\n",
    "\n",
    "cv2.destroyAllWindows()"
   ]
  },
  {
   "cell_type": "code",
   "execution_count": null,
   "metadata": {},
   "outputs": [],
   "source": [
    "imgage=cv2.imread(\"download.jpg\")\n",
    "list_of_blur=[cv2.blur(imgage,(5,5)),cv2.GaussianBlur(imgage,(5,5),0),cv2.medianBlur(imgage,5),cv2.bilateralFilter(imgage,9,75,75)]\n"
   ]
  },
  {
   "cell_type": "markdown",
   "metadata": {},
   "source": [
    "Histograms Equalization"
   ]
  },
  {
   "cell_type": "code",
   "execution_count": 5,
   "metadata": {},
   "outputs": [],
   "source": [
    "img=cv2.imread(\"download.jpg\",0)\n",
    "cv2.imshow(\"Original\",img)\n",
    "equ=cv2.equalizeHist(img)\n",
    "cv2.imshow(\"Equalize\",equ)\n",
    "cv2.waitKey(0)\n",
    "cv2.destroyAllWindows()"
   ]
  },
  {
   "cell_type": "markdown",
   "metadata": {},
   "source": [
    "Canny detector edge detection"
   ]
  },
  {
   "cell_type": "code",
   "execution_count": 3,
   "metadata": {},
   "outputs": [],
   "source": [
    "img=cv2.imread(\"images.jpg\")\n",
    "cv2.imshow(\"Original\",img)\n",
    "imcanny=cv2.Canny(img,50,100)\n",
    "\n",
    "cv2.imshow(\"Canny\",imcanny)\n",
    "cv2.waitKey(0)\n",
    "cv2.destroyAllWindows()"
   ]
  },
  {
   "cell_type": "markdown",
   "metadata": {},
   "source": [
    "harris corner Detection\n",
    "scale variant"
   ]
  },
  {
   "cell_type": "code",
   "execution_count": 10,
   "metadata": {},
   "outputs": [
    {
     "name": "stdout",
     "output_type": "stream",
     "text": [
      "165\n",
      "183\n"
     ]
    }
   ],
   "source": [
    "import numpy as np\n",
    "img=cv2.imread(\"images.jpg\")\n",
    "img_gray=cv2.imread(\"images.jpg\",0)\n",
    "img_gray=np.float32(img_gray)\n",
    "harris_detector=cv2.cornerHarris(img_gray,2,5,0.04)\n",
    "\n",
    "img_gray_scaled=cv2.resize(img_gray,None,fx=0.9,fy=0.9) \n",
    "harris_detector2=cv2.cornerHarris(img_gray_scaled,2,5,0.04)\n",
    "print(len(harris_detector2))\n",
    "\n",
    "print(len(harris_detector))\n",
    "\n",
    "# dst=cv2.dilate(harris_detector,None)\n",
    "# print(len(dst))\n",
    "# img[dst>0.01*dst.max()]=[0,0,255]\n",
    "# cv2.imshow(\"Harris\",img)\n",
    "# cv2.waitKey(0)\n",
    "# cv2.destroyAllWindows()"
   ]
  },
  {
   "cell_type": "markdown",
   "metadata": {},
   "source": [
    "sift detector scal invariant"
   ]
  },
  {
   "cell_type": "code",
   "execution_count": 12,
   "metadata": {},
   "outputs": [
    {
     "name": "stdout",
     "output_type": "stream",
     "text": [
      "282\n",
      "(282, 128)\n"
     ]
    }
   ],
   "source": [
    "img=cv2.imread(\"images.jpg\")\n",
    "img_gray=cv2.imread(\"images.jpg\",0)\n",
    "sift=cv2.SIFT_create()  \n",
    "keypoints=sift.detect(img_gray,None)\n",
    "img_sift=cv2.drawKeypoints(img_gray,keypoints,img,flags=cv2.DRAW_MATCHES_FLAGS_DRAW_RICH_KEYPOINTS)\n",
    "cv2.imwrite(\"sift_keypoints.jpg\",img_sift)\n",
    "kp,des=sift.detectAndCompute(img_gray,None)\n",
    "print(len(kp))"
   ]
  },
  {
   "cell_type": "code",
   "execution_count": null,
   "metadata": {},
   "outputs": [],
   "source": []
  }
 ],
 "metadata": {
  "kernelspec": {
   "display_name": "Python 3",
   "language": "python",
   "name": "python3"
  },
  "language_info": {
   "codemirror_mode": {
    "name": "ipython",
    "version": 3
   },
   "file_extension": ".py",
   "mimetype": "text/x-python",
   "name": "python",
   "nbconvert_exporter": "python",
   "pygments_lexer": "ipython3",
   "version": "3.12.4"
  }
 },
 "nbformat": 4,
 "nbformat_minor": 2
}
