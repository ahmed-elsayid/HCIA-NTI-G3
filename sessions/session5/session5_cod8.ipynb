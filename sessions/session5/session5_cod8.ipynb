{
 "cells": [
  {
   "cell_type": "markdown",
   "metadata": {},
   "source": [
    "# Machine Learning: Supervised Learning"
   ]
  },
  {
   "cell_type": "markdown",
   "metadata": {},
   "source": [
    "\n",
    "## Linear Regression\n"
   ]
  },
  {
   "cell_type": "markdown",
   "metadata": {},
   "source": [
    "### import libs"
   ]
  },
  {
   "cell_type": "code",
   "execution_count": 2,
   "metadata": {},
   "outputs": [],
   "source": [
    "import numpy as np\n",
    "import sklearn as sk\n",
    "import pandas as pd\n",
    "import matplotlib.pyplot as plt\n"
   ]
  },
  {
   "cell_type": "markdown",
   "metadata": {},
   "source": [
    "### Read Data\n",
    "#### and get the lables and  features"
   ]
  },
  {
   "cell_type": "code",
   "execution_count": 44,
   "metadata": {},
   "outputs": [
    {
     "name": "stdout",
     "output_type": "stream",
     "text": [
      "    time\n",
      "0    0.0\n",
      "1    0.5\n",
      "2    1.0\n",
      "3    1.5\n",
      "4    2.0\n",
      "5    2.5\n",
      "6    3.0\n",
      "7    3.5\n",
      "8    4.0\n",
      "9    4.5\n",
      "10   5.0 \n",
      "\n",
      "\n",
      "\n",
      "    cells\n",
      "0     205\n",
      "1     225\n",
      "2     238\n",
      "3     240\n",
      "4     248\n",
      "5     260\n",
      "6     265\n",
      "7     283\n",
      "8     301\n",
      "9     305\n",
      "10    309\n"
     ]
    }
   ],
   "source": [
    "data=pd.read_csv('cells.csv')\n",
    "data\n",
    "x_df=pd.DataFrame(data.time)\n",
    "y_df=pd.DataFrame(data.cells)\n",
    "print(x_df,'\\n\\n\\n')\n",
    "print(y_df)"
   ]
  },
  {
   "cell_type": "markdown",
   "metadata": {},
   "source": [
    "### split the data to test and train"
   ]
  },
  {
   "cell_type": "code",
   "execution_count": 40,
   "metadata": {},
   "outputs": [
    {
     "name": "stdout",
     "output_type": "stream",
     "text": [
      "    time\n",
      "5    2.5\n",
      "7    3.5\n",
      "10   5.0\n",
      "3    1.5\n",
      "1    0.5\n",
      "0    0.0\n",
      "4    2.0\n",
      "9    4.5\n",
      "    cells\n",
      "5     260\n",
      "7     283\n",
      "10    309\n",
      "3     240\n",
      "1     225\n",
      "0     205\n",
      "4     248\n",
      "9     305\n",
      "   time\n",
      "2   1.0\n",
      "6   3.0\n",
      "8   4.0\n",
      "   cells\n",
      "2    238\n",
      "6    265\n",
      "8    301\n"
     ]
    }
   ],
   "source": [
    "from sklearn.model_selection import train_test_split\n",
    "x_train,x_test,y_train,y_test=train_test_split(x_df,y_df,test_size=0.2,random_state=10)\n",
    "print(x_train)\n",
    "print(y_train)\n",
    "print(x_test)\n",
    "print(y_test)"
   ]
  },
  {
   "cell_type": "markdown",
   "metadata": {},
   "source": [
    "### train the model"
   ]
  },
  {
   "cell_type": "code",
   "execution_count": 50,
   "metadata": {},
   "outputs": [
    {
     "name": "stdout",
     "output_type": "stream",
     "text": [
      "0.9036509022356531\n",
      "mean_absolute_error = 7.883539660706106\n",
      "mean_squared_error = 64.16849911105498\n",
      "median_absolute_error = 8.28060522696012\n"
     ]
    }
   ],
   "source": [
    "from sklearn.linear_model import LinearRegression\n",
    "from sklearn.metrics import mean_absolute_error,mean_squared_error,median_absolute_error\n",
    "reg=LinearRegression()\n",
    "reg.fit(x_train,y_train)\n",
    "print(reg.score(x_test,y_test))\n",
    "pred=reg.predict(x_test)\n",
    "\n",
    "print(\"mean_absolute_error =\",mean_absolute_error(y_test,pred))\n",
    "print(\"mean_squared_error =\",mean_squared_error(y_test,pred))\n",
    "print(\"median_absolute_error =\",median_absolute_error(y_test,pred))\n",
    "\n"
   ]
  },
  {
   "cell_type": "markdown",
   "metadata": {},
   "source": [
    "## example"
   ]
  },
  {
   "cell_type": "code",
   "execution_count": 62,
   "metadata": {},
   "outputs": [
    {
     "name": "stdout",
     "output_type": "stream",
     "text": [
      "mean_absolute_error = 2.9421886328429148\n",
      "mean_squared_error = 13.395419176328474\n",
      "median_absolute_error = 2.177391296764397\n",
      "score = 0.6564297077992511\n"
     ]
    },
    {
     "data": {
      "text/plain": [
       "[<matplotlib.lines.Line2D at 0x7e7ef9cadfa0>]"
      ]
     },
     "execution_count": 62,
     "metadata": {},
     "output_type": "execute_result"
    },
    {
     "data": {
      "image/png": "[encoded data removed]",
      "text/plain": [
       "<Figure size 640x480 with 1 Axes>"
      ]
     },
     "metadata": {},
     "output_type": "display_data"
    }
   ],
   "source": [
    "data2=pd.read_csv('tvmarketing.csv')\n",
    "x=pd.DataFrame(data2.TV)\n",
    "y=pd.DataFrame(data2.Sales)\n",
    "\n",
    "x_train,x_test,y_train,y_test=train_test_split(x,y,test_size=0.1,random_state=10)\n",
    "\n",
    "reg=LinearRegression()\n",
    "reg.fit(x_train,y_train)\n",
    "pred=reg.predict(x_test)\n",
    "\n",
    "print(\"mean_absolute_error =\",mean_absolute_error(y_test,pred))\n",
    "print(\"mean_squared_error =\",mean_squared_error(y_test,pred))\n",
    "print(\"median_absolute_error =\",median_absolute_error(y_test,pred))\n",
    "print(\"score =\",reg.score(x_test,y_test))\n",
    "\n",
    "\n",
    "plt.scatter(x_train,y_train,color='red')\n",
    "plt.plot(x_train,reg.predict(x_train),color='blue')"
   ]
  },
  {
   "cell_type": "code",
   "execution_count": null,
   "metadata": {},
   "outputs": [],
   "source": [
    "print(\"\")"
   ]
  }
 ],
 "metadata": {
  "kernelspec": {
   "display_name": "quant",
   "language": "python",
   "name": "python3"
  },
  "language_info": {
   "codemirror_mode": {
    "name": "ipython",
    "version": 3
   },
   "file_extension": ".py",
   "mimetype": "text/x-python",
   "name": "python",
   "nbconvert_exporter": "python",
   "pygments_lexer": "ipython3",
   "version": "3.12.4"
  }
 },
 "nbformat": 4,
 "nbformat_minor": 2
}
