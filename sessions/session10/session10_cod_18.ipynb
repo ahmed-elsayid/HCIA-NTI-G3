{
 "cells": [
  {
   "cell_type": "markdown",
   "metadata": {},
   "source": [
    "# Principal Component Analysis (PCA)"
   ]
  },
  {
   "cell_type": "code",
   "execution_count": 1,
   "metadata": {},
   "outputs": [],
   "source": [
    "import pandas as pd\n",
    "from sklearn.decomposition import PCA\n",
    "#PCA pipeline\n",
    "from sklearn.pipeline import make_pipeline\n",
    "#svm\n",
    "from sklearn import svm\n",
    "from sklearn.datasets import load_iris\n",
    "#splitting the data into training and test sets\n",
    "from sklearn.model_selection import train_test_split\n",
    "#cross validation\n",
    "from sklearn.model_selection import cross_val_score\n",
    "from sklearn.metrics import accuracy_score"
   ]
  },
  {
   "cell_type": "code",
   "execution_count": 40,
   "metadata": {},
   "outputs": [
    {
     "name": "stdout",
     "output_type": "stream",
     "text": [
      "(120, 4)\n",
      "0.9666666666666667\n",
      "0.9666666666666668\n"
     ]
    }
   ],
   "source": [
    "data=load_iris()\n",
    "df=pd.DataFrame(data.data, columns=data.feature_names)\n",
    "df['species']=data.target\n",
    "x=df.drop('species',axis=1)\n",
    "y=df['species']\n",
    "\n",
    "x_train, x_test, y_train, y_test = train_test_split(x, y, test_size=0.2, random_state=42)\n",
    "\n",
    "#PCA pipeline\n",
    "\n",
    "pcapiPl=make_pipeline(PCA(n_components=2),svm.SVC(kernel='linear',C=1))\n",
    "print(x_train.shape)\n",
    "pcapiPl.fit(x_train,y_train)\n",
    "y_pred=pcapiPl.predict(x_test)\n",
    "print(pcapiPl.score(x_test,y_test))\n",
    "#cross validation\n",
    "scores=cross_val_score(pcapiPl,x,y,cv=5)\n",
    "print(scores.mean())"
   ]
  },
  {
   "cell_type": "markdown",
   "metadata": {},
   "source": [
    "### without pipeline"
   ]
  },
  {
   "cell_type": "code",
   "execution_count": 36,
   "metadata": {},
   "outputs": [
    {
     "name": "stdout",
     "output_type": "stream",
     "text": [
      "(150, 4)\n",
      "(150, 2)\n",
      "0.9666666666666668\n"
     ]
    }
   ],
   "source": [
    "data=load_iris()\n",
    "df=pd.DataFrame(data.data, columns=data.feature_names)\n",
    "df['species']=data.target\n",
    "x=df.drop('species',axis=1)\n",
    "y=df['species']\n",
    "pca=PCA(n_components=2)\n",
    "print(x.shape)\n",
    "pca.fit(x)  \n",
    "x=pca.transform(x)\n",
    "print(x.shape)\n",
    "\n",
    "print(scores.mean())\n"
   ]
  }
 ],
 "metadata": {
  "kernelspec": {
   "display_name": "Python 3",
   "language": "python",
   "name": "python3"
  },
  "language_info": {
   "codemirror_mode": {
    "name": "ipython",
    "version": 3
   },
   "file_extension": ".py",
   "mimetype": "text/x-python",
   "name": "python",
   "nbconvert_exporter": "python",
   "pygments_lexer": "ipython3",
   "version": "3.12.4"
  }
 },
 "nbformat": 4,
 "nbformat_minor": 2
}
