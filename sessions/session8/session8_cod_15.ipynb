{
 "cells": [
  {
   "cell_type": "markdown",
   "metadata": {},
   "source": [
    "# Naive Bayes"
   ]
  },
  {
   "cell_type": "code",
   "execution_count": 2,
   "metadata": {},
   "outputs": [],
   "source": [
    "\n",
    "import pandas as pd\n",
    "#import Naive Bayes\n",
    "from sklearn.naive_bayes import GaussianNB\n",
    "from sklearn.model_selection import train_test_split\n",
    "from sklearn.metrics import accuracy_score\n",
    "import matplotlib.pyplot as plt\n",
    "#lable encoding\n",
    "from sklearn.preprocessing import LabelEncoder\n",
    "from sklearn.metrics import confusion_matrix"
   ]
  },
  {
   "cell_type": "code",
   "execution_count": 68,
   "metadata": {},
   "outputs": [
    {
     "name": "stdout",
     "output_type": "stream",
     "text": [
      "accuracy score=  0.7653631284916201\n"
     ]
    }
   ],
   "source": [
    "df=pd.read_csv('titanic.csv')\n",
    "df.drop(['Name','Ticket','Cabin','Embarked','PassengerId','SibSp','Parch'],axis='columns',inplace=True)\n",
    "\n",
    "dummy=pd.get_dummies(df.Gender)\n",
    "df=pd.concat([df,dummy],axis='columns')\n",
    "df.drop([\"Gender\",\"female\"],axis='columns',inplace=True)\n",
    "x=df.drop('Survived',axis='columns')\n",
    "y=df['Survived'].values\n",
    "# df.male=df.male.astype(int)\n",
    "#checking for missing values\n",
    "df.columns[df.isna().any()]\n",
    "#using imputatio to fill the missing values\n",
    "\n",
    "x.Age=df.Age.fillna(df.Age.mean())\n",
    "\n",
    "\n",
    "x_train,x_test,y_train,y_test=train_test_split(x,y,test_size=0.2,random_state=1)\n",
    "model=GaussianNB()\n",
    "model.fit(x_train,y_train)\n",
    "y_pred=model.predict(x_test)\n",
    "y_pred=y_pred\n",
    "y_test=y_test\n",
    "print(f'accuracy score=  {accuracy_score(y_test,y_pred)}')\n",
    "# print(model.predict_proba(x_test[:4]))\n",
    "# print(model.predict(x_test[:4]))\n"
   ]
  },
  {
   "cell_type": "markdown",
   "metadata": {},
   "source": [
    "### try cross valdation"
   ]
  },
  {
   "cell_type": "code",
   "execution_count": 72,
   "metadata": {},
   "outputs": [
    {
     "name": "stdout",
     "output_type": "stream",
     "text": [
      "cross validation score= 0.7677421379699956\n"
     ]
    }
   ],
   "source": [
    "from sklearn.model_selection import cross_val_score\n",
    "crossval=cross_val_score(GaussianNB(),x,y,cv=5)\n",
    "print(f'cross validation score= {crossval.mean()}')\n",
    "\n"
   ]
  }
 ],
 "metadata": {
  "kernelspec": {
   "display_name": "Python 3",
   "language": "python",
   "name": "python3"
  },
  "language_info": {
   "codemirror_mode": {
    "name": "ipython",
    "version": 3
   },
   "file_extension": ".py",
   "mimetype": "text/x-python",
   "name": "python",
   "nbconvert_exporter": "python",
   "pygments_lexer": "ipython3",
   "version": "3.12.4"
  }
 },
 "nbformat": 4,
 "nbformat_minor": 2
}
