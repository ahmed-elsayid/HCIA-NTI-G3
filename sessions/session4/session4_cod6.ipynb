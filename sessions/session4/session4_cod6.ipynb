{
 "cells": [
  {
   "cell_type": "markdown",
   "metadata": {},
   "source": [
    "using opencv to read images"
   ]
  },
  {
   "cell_type": "code",
   "execution_count": 2,
   "metadata": {},
   "outputs": [],
   "source": [
    "import cv2 as cv\n",
    "img = cv.imread(\"images.jpg\",cv.IMREAD_COLOR)\n",
    "\n",
    "cv.imshow(\"images.jpg\",img)\n",
    "k = cv.waitKey() # Wait for a keystroke in the window\n",
    "cv.destroyAllWindows()\n"
   ]
  },
  {
   "cell_type": "markdown",
   "metadata": {},
   "source": [
    "change color mod to another"
   ]
  },
  {
   "cell_type": "markdown",
   "metadata": {},
   "source": [
    "color to gray"
   ]
  },
  {
   "cell_type": "code",
   "execution_count": 3,
   "metadata": {},
   "outputs": [],
   "source": [
    "img=cv.imread(\"images.jpg\")\n",
    "cv.imshow(\"images.jpg\",img)\n",
    "gray_img=cv.cvtColor(img,cv.COLOR_BGR2GRAY)\n",
    "cv.imshow(\"gray_img\",gray_img)\n",
    "cv.waitKey(0)\n",
    "cv.destroyAllWindows()\n",
    "              "
   ]
  },
  {
   "cell_type": "markdown",
   "metadata": {},
   "source": [
    "color to black and white wwith diffrent threshs"
   ]
  },
  {
   "cell_type": "code",
   "execution_count": 8,
   "metadata": {},
   "outputs": [],
   "source": [
    "img=cv.imread(\"images.jpg\")\n",
    "# cv.imshow(\"images.jpg\",img)\n",
    "gray_img=cv.cvtColor(img,cv.COLOR_BGR2GRAY)\n",
    "# cv.imshow(\"gray_img\",gray_img)\n",
    "list=[cv.THRESH_BINARY,cv.THRESH_BINARY_INV,cv.THRESH_TRUNC,cv.THRESH_TOZERO,cv.THRESH_TOZERO_INV]\n",
    "for i in list:\n",
    "        (thersh,threshold_img)=cv.threshold(gray_img,127,255,i)\n",
    "        cv.imshow(f\"{i}\",threshold_img)\n",
    "        cv.waitKey(0)\n",
    "        cv.destroyAllWindows()\n",
    "    # (thersh,threshold_img)=cv.threshold(gray_img,127,255,cv.THRESH_BINARY_INV) \n",
    "# cv.imshow(\"threshold_img\",threshold_img)\n",
    "# cv.waitKey(0)\n",
    "# cv.destroyAllWindows()\n"
   ]
  },
  {
   "cell_type": "markdown",
   "metadata": {},
   "source": [
    "slplit imge into 3 chanels and re mearg them"
   ]
  },
  {
   "cell_type": "code",
   "execution_count": 10,
   "metadata": {},
   "outputs": [],
   "source": [
    "img=cv.imread(\"images.jpg\")\n",
    "cv.imshow(\"images.jpg\",img)\n",
    "R,G,B=cv.split(img)\n",
    "cv.imshow(\"R\",R)\n",
    "cv.imshow(\"G\",G)\n",
    "cv.imshow(\"B\",B)\n",
    "cv.waitKey(0)\n",
    "cv.destroyAllWindows()"
   ]
  },
  {
   "cell_type": "markdown",
   "metadata": {},
   "source": [
    "turn image iton hsv"
   ]
  },
  {
   "cell_type": "code",
   "execution_count": 19,
   "metadata": {},
   "outputs": [],
   "source": [
    "img=cv.imread(\"a2.jpg\")\n",
    "cv.imshow(\"a2.jpg\",img)\n",
    "hsv_img=cv.cvtColor(img,cv.COLOR_BGR2HSV)\n",
    "cv.imshow(\"hsv_img\",hsv_img)\n",
    "H,S,V=cv.split(hsv_img)\n",
    "cv.imshow(\"H\",H)\n",
    "cv.imshow(\"S\",S)\n",
    "cv.imshow(\"V\",V)\n",
    "h=hsv_img[:,:,0]\n",
    "s=hsv_img[:,:,1]    \n",
    "v=hsv_img[:,:,2]    \n",
    "cv.imshow(\"h\",h)\n",
    "cv.imshow(\"s\",s)\n",
    "cv.imshow(\"v\",v)\n",
    "\n",
    "cv.waitKey(0)\n",
    "cv.destroyAllWindows()"
   ]
  },
  {
   "cell_type": "markdown",
   "metadata": {},
   "source": [
    "resize the images"
   ]
  },
  {
   "cell_type": "code",
   "execution_count": 18,
   "metadata": {},
   "outputs": [],
   "source": [
    "img=cv.imread(\"a2.jpg\")\n",
    "half=cv.resize(img,(0,0),fx=0.5,fy=0.5)\n",
    "bigger=cv.resize(img,(1050,1610))\n",
    "stretch_near=cv.resize(img,(1366,768),interpolation=cv.INTER_NEAREST)\n",
    "cv.imshow(\"half\",half)\n",
    "cv.imshow(\"bigger\",bigger)\n",
    "cv.imshow(\"stretch_near\",stretch_near)\n",
    "\n",
    "cv.waitKey(0)\n",
    "cv.destroyAllWindows()"
   ]
  }
 ],
 "metadata": {
  "kernelspec": {
   "display_name": "base",
   "language": "python",
   "name": "python3"
  },
  "language_info": {
   "codemirror_mode": {
    "name": "ipython",
    "version": 3
   },
   "file_extension": ".py",
   "mimetype": "text/x-python",
   "name": "python",
   "nbconvert_exporter": "python",
   "pygments_lexer": "ipython3",
   "version": "3.12.4"
  }
 },
 "nbformat": 4,
 "nbformat_minor": 2
}
