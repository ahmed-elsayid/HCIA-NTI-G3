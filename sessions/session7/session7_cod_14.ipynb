{
 "cells": [
  {
   "cell_type": "code",
   "execution_count": 4,
   "metadata": {},
   "outputs": [
    {
     "name": "stdout",
     "output_type": "stream",
     "text": [
      "loading cats\n",
      "loading cats completed\n",
      "loading dogs\n",
      "loading dogs completed\n",
      "(160, 67500)\n",
      "(160,)\n"
     ]
    }
   ],
   "source": [
    "import pandas as pd\n",
    "import numpy as np\n",
    "import os\n",
    "from skimage.transform import resize\n",
    "from skimage.io import imread\n",
    "import matplotlib.pyplot as plt\n",
    "from sklearn.model_selection import train_test_split\n",
    "from sklearn import svm\n",
    "from sklearn.linear_model import LogisticRegression\n",
    "\n",
    "from sklearn.neighbors import KNeighborsClassifier\n",
    "\n",
    "from sklearn.tree import DecisionTreeClassifier\n",
    "from sklearn.metrics import accuracy_score\n",
    "from sklearn.metrics import classification_report\n",
    "\n",
    "\n",
    "\n",
    "categories = ['cats', 'dogs']\n",
    "flat_arry=[]\n",
    "target_arry=[]\n",
    "datadir='./DS'\n",
    "for category in categories:\n",
    "    print(\"loading\",category)\n",
    "    path=os.path.join(datadir,category)\n",
    "    for img in os.listdir(path):\n",
    "        img_array=imread(os.path.join(path,img))\n",
    "        img_resized=resize(img_array,(150,150,3))\n",
    "        \n",
    "        flat_arry.append(img_resized.flatten())\n",
    "        target_arry.append(categories.index(category))\n",
    "    print(\"loading\",category,\"completed\")\n",
    "flat_arry=np.array(flat_arry)\n",
    "target_arry=np.array(target_arry)\n",
    "\n",
    "print(flat_arry.shape)\n",
    "print(target_arry.shape)\n",
    "\n",
    "\n"
   ]
  },
  {
   "cell_type": "code",
   "execution_count": 14,
   "metadata": {},
   "outputs": [
    {
     "name": "stdout",
     "output_type": "stream",
     "text": [
      "(160, 67500)\n",
      "(160,)\n",
      "0.65625\n",
      "SVC() 0.65625\n",
      "-------------------------------------------------\n",
      "0.53125\n",
      "LogisticRegression() 0.53125\n",
      "-------------------------------------------------\n",
      "0.65625\n",
      "KNeighborsClassifier() 0.65625\n",
      "-------------------------------------------------\n",
      "0.71875\n",
      "DecisionTreeClassifier() 0.71875\n",
      "-------------------------------------------------\n",
      "Average Accuracy of all models 0.640625\n"
     ]
    }
   ],
   "source": [
    "print(flat_arry.shape)\n",
    "print(target_arry.shape)\n",
    "df=pd.DataFrame(flat_arry)\n",
    "df['target']=target_arry\n",
    "x=df.drop('target',axis='columns')\n",
    "y=df['target']\n",
    "avg=[]\n",
    "x_train,x_test,y_train,y_test=train_test_split(x,y,test_size=0.2)\n",
    "model=[svm.SVC(),LogisticRegression(),KNeighborsClassifier(),DecisionTreeClassifier()]\n",
    "for i in model:\n",
    "    i.fit(x_train,y_train)\n",
    "    print(i.score(x_test,y_test))\n",
    "    y_pred=i.predict(x_test)\n",
    "    # print(classification_report(y_test,y_pred))\n",
    "    avg.append(accuracy_score(y_test,y_pred))\n",
    "    print(f\"{i}\",accuracy_score(y_test,y_pred))\n",
    "    print(\"-------------------------------------------------\")\n",
    "print(\"Average Accuracy of all models\",np.mean(avg))    "
   ]
  },
  {
   "cell_type": "code",
   "execution_count": 23,
   "metadata": {},
   "outputs": [
    {
     "name": "stdout",
     "output_type": "stream",
     "text": [
      "Loading cats\n",
      "Loading cats completed\n",
      "Loading dogs\n",
      "Loading dogs completed\n"
     ]
    }
   ],
   "source": [
    "import cv2 as cv\n",
    "import numpy as np\n",
    "import os\n",
    "import pandas as pd\n",
    "\n",
    "# Categories for classification\n",
    "categories = ['cats', 'dogs']\n",
    "flat_arry1 = []\n",
    "target_arry1 = []\n",
    "datadir = './DS'\n",
    "\n",
    "# Canny Edge Detection parameters\n",
    "low_threshold = 50\n",
    "high_threshold = 150\n",
    "\n",
    "for category in categories:\n",
    "    print(\"Loading\", category)\n",
    "    path = os.path.join(datadir, category)\n",
    "    for img in os.listdir(path):\n",
    "            img_array = cv.imread(os.path.join(path, img))\n",
    "            img_gray = cv.cvtColor(img_array, cv.COLOR_BGR2GRAY)\n",
    "\n",
    "            # Resize image if necessary\n",
    "            img_resized = cv.resize(img_gray, (150, 150))\n",
    "\n",
    "            # Apply Canny Edge Detection\n",
    "            sift = cv.SIFT_create()\n",
    "            kp, des = sift.detectAndCompute(img_resized, None)  \n",
    "            edges = cv.drawKeypoints(img_resized, kp, img_resized).flatten()\n",
    "\n",
    "            # Flatten the edge-detected image and store it\n",
    "            flat_arry1.append(edges)\n",
    "            target_arry1.append(categories.index(category))\n",
    "  \n",
    "            \n",
    "\n",
    "    print(\"Loading\", category, \"completed\")\n",
    "\n",
    "# Convert to NumPy array\n",
    "flat_arry1 = np.array(flat_arry1)\n",
    "target_arry1 = np.array(target_arry1)\n",
    "\n",
    "# Create DataFrame\n",
    "df1 = pd.DataFrame(flat_arry1)\n",
    "df1['target'] = target_arry1\n",
    "\n",
    "# Display the DataFrame\n",
    "\n"
   ]
  },
  {
   "cell_type": "code",
   "execution_count": 24,
   "metadata": {},
   "outputs": [
    {
     "name": "stdout",
     "output_type": "stream",
     "text": [
      "(160, 67501)\n"
     ]
    }
   ],
   "source": [
    "print(df1.shape)"
   ]
  },
  {
   "cell_type": "code",
   "execution_count": 25,
   "metadata": {},
   "outputs": [
    {
     "name": "stdout",
     "output_type": "stream",
     "text": [
      "0.53125\n",
      "SVC() 0.53125\n",
      "-------------------------------------------------\n",
      "0.65625\n",
      "LogisticRegression() 0.65625\n",
      "-------------------------------------------------\n",
      "0.5\n",
      "KNeighborsClassifier() 0.5\n",
      "-------------------------------------------------\n",
      "0.375\n",
      "DecisionTreeClassifier() 0.375\n",
      "-------------------------------------------------\n",
      "Average Accuracy of all models 0.515625\n"
     ]
    }
   ],
   "source": [
    "\n",
    "x=df1.drop('target',axis='columns')\n",
    "y=df1['target']\n",
    "x_train,x_test,y_train,y_test=train_test_split(x,y,test_size=0.2)\n",
    "avg=[]\n",
    "model=[svm.SVC(),LogisticRegression(),KNeighborsClassifier(),DecisionTreeClassifier()]\n",
    "for i in model:\n",
    "    i.fit(x_train,y_train)\n",
    "    print(i.score(x_test,y_test))\n",
    "    y_pred=i.predict(x_test)\n",
    "    # print(classification_report(y_test,y_pred))\n",
    "    avg.append(accuracy_score(y_test,y_pred))\n",
    "    print(f\"{i}\",accuracy_score(y_test,y_pred))\n",
    "    print(\"-------------------------------------------------\")  \n",
    "print(\"Average Accuracy of all models\",np.mean(avg))    "
   ]
  }
 ],
 "metadata": {
  "kernelspec": {
   "display_name": "Python 3",
   "language": "python",
   "name": "python3"
  },
  "language_info": {
   "codemirror_mode": {
    "name": "ipython",
    "version": 3
   },
   "file_extension": ".py",
   "mimetype": "text/x-python",
   "name": "python",
   "nbconvert_exporter": "python",
   "pygments_lexer": "ipython3",
   "version": "3.12.4"
  }
 },
 "nbformat": 4,
 "nbformat_minor": 2
}
