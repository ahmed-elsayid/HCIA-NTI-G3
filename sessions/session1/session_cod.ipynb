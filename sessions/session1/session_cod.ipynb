{
 "cells": [
  {
   "cell_type": "markdown",
   "metadata": {},
   "source": [
    "Python Comments"
   ]
  },
  {
   "cell_type": "code",
   "execution_count": null,
   "metadata": {},
   "outputs": [
    {
     "name": "stdout",
     "output_type": "stream",
     "text": [
      "hello\n"
     ]
    }
   ],
   "source": [
    "#this is a comment\n",
    "print(\"hello\")"
   ]
  },
  {
   "cell_type": "markdown",
   "metadata": {},
   "source": [
    "Multiline Comments"
   ]
  },
  {
   "cell_type": "code",
   "execution_count": 1,
   "metadata": {},
   "outputs": [
    {
     "name": "stdout",
     "output_type": "stream",
     "text": [
      "Hello, World!\n"
     ]
    }
   ],
   "source": [
    "#This is a comment\n",
    "#written in\n",
    "#more than just one line \n",
    "print(\"Hello, World!\")"
   ]
  },
  {
   "cell_type": "markdown",
   "metadata": {},
   "source": [
    "\n",
    "Case-Sensitive: Variable names are case-sensitive.\n"
   ]
  },
  {
   "cell_type": "code",
   "execution_count": 2,
   "metadata": {},
   "outputs": [],
   "source": [
    "\n",
    "a = 4\n",
    "A = \"Sally\"\n",
    "#A will not overwrite a"
   ]
  },
  {
   "cell_type": "markdown",
   "metadata": {},
   "source": [
    "Many Values to Multiple Variables: You can assign different values to multiple variables in one line. For example:"
   ]
  },
  {
   "cell_type": "code",
   "execution_count": null,
   "metadata": {},
   "outputs": [],
   "source": [
    "x, y, z = \"Orange\", \"Banana\", \"Cherry\"\n",
    "print(x)\n",
    "print(y)\n",
    "print(z)"
   ]
  },
  {
   "cell_type": "markdown",
   "metadata": {},
   "source": [
    "One Value to Multiple Variables: You can assign the same value to multiple variables in one line. For example:"
   ]
  },
  {
   "cell_type": "code",
   "execution_count": null,
   "metadata": {},
   "outputs": [],
   "source": [
    "x = y = z = \"Orange\"\n",
    "print(x)\n",
    "print(y)\n",
    "print(z)"
   ]
  },
  {
   "cell_type": "markdown",
   "metadata": {},
   "source": [
    "Concatenating Variables:\n",
    "\n",
    "\n",
    "Importance of Spaces: The example emphasizes including space characters within strings to ensure proper spacing in the final output. Without these spaces, the result would be “Pythonisawesome”."
   ]
  },
  {
   "cell_type": "code",
   "execution_count": 3,
   "metadata": {},
   "outputs": [
    {
     "name": "stdout",
     "output_type": "stream",
     "text": [
      "Python is awesome\n"
     ]
    }
   ],
   "source": [
    "x = \"Python \"\n",
    "y = \"is \"\n",
    "z = \"awesome\"\n",
    "print(x + y + z)\n"
   ]
  },
  {
   "cell_type": "markdown",
   "metadata": {},
   "source": [
    "The best way to output multiple variables in the print() function is to separate them with\n",
    "commas, which even support different data types:"
   ]
  },
  {
   "cell_type": "code",
   "execution_count": 5,
   "metadata": {},
   "outputs": [
    {
     "name": "stdout",
     "output_type": "stream",
     "text": [
      "5\n",
      "John\n",
      "5 John\n"
     ]
    }
   ],
   "source": [
    "x = 5\n",
    "y = \"John\"\n",
    "print(x)\n",
    "print(y)\n",
    "print(x,y)\n"
   ]
  },
  {
   "cell_type": "markdown",
   "metadata": {},
   "source": [
    "Global Variables: Variables created outside of a function are known as global variables and can be used both inside and outside functions.\n",
    "\n",
    "Local Variables: Variables created inside a function are local and can only be used within that function.\n",
    "\n",
    "The global Keyword: Use the global keyword to modify a global variable inside a function."
   ]
  },
  {
   "cell_type": "code",
   "execution_count": 8,
   "metadata": {},
   "outputs": [
    {
     "name": "stdout",
     "output_type": "stream",
     "text": [
      "Python is awesome\n",
      "Python is fantastic\n",
      "Python is fantastic\n"
     ]
    }
   ],
   "source": [
    "x = \"awesome\"\n",
    "\n",
    "def myfunc1():\n",
    "    x = \"fantastic\"\n",
    "\n",
    "myfunc1()\n",
    "print(\"Python is \" + x)\n",
    "\n",
    "def myfunc2():\n",
    "    x = \"fantastic\"\n",
    "    print(\"Python is \" + x)\n",
    "myfunc2()\n",
    "\n",
    "\n",
    "\n",
    "def myfunc3():\n",
    "    global x\n",
    "    x = \"fantastic\"\n",
    "\n",
    "myfunc3()\n",
    "print(\"Python is \" + x)\n",
    "\n",
    "\n",
    "\n",
    "\n",
    "\n"
   ]
  },
  {
   "cell_type": "markdown",
   "metadata": {},
   "source": [
    "Random Number\n",
    "\n",
    "Python does not have a random() function to make a random number, but Python has a built-in module called random that can be used to make random numbers:"
   ]
  },
  {
   "cell_type": "code",
   "execution_count": 9,
   "metadata": {},
   "outputs": [
    {
     "name": "stdout",
     "output_type": "stream",
     "text": [
      "9\n"
     ]
    }
   ],
   "source": [
    "import random\n",
    "\n",
    "print(random.randrange(1, 10))\n"
   ]
  },
  {
   "cell_type": "markdown",
   "metadata": {},
   "source": [
    "You've provided a great summary of Python lists! Here's a more concise version:\n",
    "\n",
    "---\n",
    "\n",
    "**List Items in Python:**\n",
    "\n",
    "- **Ordered**: Items have a defined order that doesn't change. New items are added to the end.\n",
    "- **Changeable**: You can change, add, and remove items after the list is created.\n",
    "- **Allow Duplicates**: Lists can have items with the same value since they are indexed.\n",
    "\n"
   ]
  },
  {
   "cell_type": "markdown",
   "metadata": {},
   "source": [
    "Lists allow duplicate values:\n",
    "\n"
   ]
  },
  {
   "cell_type": "code",
   "execution_count": 10,
   "metadata": {},
   "outputs": [
    {
     "name": "stdout",
     "output_type": "stream",
     "text": [
      "['apple', 'banana', 'cherry', 'apple', 'cherry']\n"
     ]
    }
   ],
   "source": [
    "thislist = [\"apple\", \"banana\", \"cherry\", \"apple\", \"cherry\"]\n",
    "print(thislist)\n"
   ]
  },
  {
   "cell_type": "markdown",
   "metadata": {},
   "source": [
    "List Length: To determine how many items a list has, use the len() function:"
   ]
  },
  {
   "cell_type": "code",
   "execution_count": 11,
   "metadata": {},
   "outputs": [
    {
     "name": "stdout",
     "output_type": "stream",
     "text": [
      "3\n"
     ]
    }
   ],
   "source": [
    "thislist = [\"apple\", \"banana\", \"cherry\"]\n",
    "print(len(thislist))\n"
   ]
  },
  {
   "cell_type": "markdown",
   "metadata": {},
   "source": [
    "Here is the extracted text from the image:\n",
    "\n",
    "---\n",
    "\n",
    "**Python Collections (Arrays):**\n",
    "\n",
    "There are four collection data types in the Python programming language:\n",
    "\n",
    "- **List**: Ordered and changeable. Allows duplicate members.\n",
    "\n",
    "- **Tuple**: Ordered and unchangeable. Allows duplicate members.\n",
    "\n",
    "- **Set**: Unordered, unchangeable*, and unindexed. No duplicate members.\n",
    "\n",
    "- **Dictionary**: Ordered** and changeable. No duplicate members.\n",
    "\n"
   ]
  },
  {
   "cell_type": "markdown",
   "metadata": {},
   "source": [
    "Insert Items:\n",
    "\n",
    "To insert a new list item without replacing any of the existing values, use the insert() method. The insert() method inserts an item at the specified index:"
   ]
  },
  {
   "cell_type": "code",
   "execution_count": 13,
   "metadata": {},
   "outputs": [
    {
     "name": "stdout",
     "output_type": "stream",
     "text": [
      "['apple', 'banana', 'watermelon', 'cherry']\n"
     ]
    }
   ],
   "source": [
    "thislist = [\"apple\", \"banana\", \"cherry\"]\n",
    "thislist.insert(2, \"watermelon\")\n",
    "print(thislist)\n"
   ]
  },
  {
   "cell_type": "markdown",
   "metadata": {},
   "source": [
    "Append Items:\n",
    "\n",
    "To add an item to the end of the list, use the append() method:"
   ]
  },
  {
   "cell_type": "code",
   "execution_count": 14,
   "metadata": {},
   "outputs": [
    {
     "name": "stdout",
     "output_type": "stream",
     "text": [
      "['apple', 'banana', 'watermelon', 'cherry', 'orange']\n"
     ]
    }
   ],
   "source": [
    "thislist.append(\"orange\")\n",
    "print(thislist)\n"
   ]
  },
  {
   "cell_type": "markdown",
   "metadata": {},
   "source": [
    "Extend List:\n",
    "\n",
    "To append elements from another list to the current list, use the extend() method:"
   ]
  },
  {
   "cell_type": "code",
   "execution_count": 15,
   "metadata": {},
   "outputs": [
    {
     "name": "stdout",
     "output_type": "stream",
     "text": [
      "['apple', 'banana', 'watermelon', 'cherry', 'orange', 'kiwi', 'mango']\n"
     ]
    }
   ],
   "source": [
    "thislist.extend([\"kiwi\", \"mango\"])\n",
    "print(thislist)\n"
   ]
  },
  {
   "cell_type": "markdown",
   "metadata": {},
   "source": [
    "Remove Specified Item:\n",
    "\n",
    "The remove() method removes the specified item:"
   ]
  },
  {
   "cell_type": "code",
   "execution_count": 17,
   "metadata": {},
   "outputs": [
    {
     "name": "stdout",
     "output_type": "stream",
     "text": [
      "['apple', 'watermelon', 'cherry', 'orange', 'kiwi', 'mango']\n"
     ]
    }
   ],
   "source": [
    "thislist.remove(\"banana\")\n",
    "print(thislist)\n"
   ]
  },
  {
   "cell_type": "markdown",
   "metadata": {},
   "source": [
    "Remove Specified Index:\n",
    "\n",
    "The pop() method removes the specified index:"
   ]
  },
  {
   "cell_type": "code",
   "execution_count": 18,
   "metadata": {},
   "outputs": [
    {
     "name": "stdout",
     "output_type": "stream",
     "text": [
      "['apple', 'cherry', 'orange', 'kiwi', 'mango']\n"
     ]
    }
   ],
   "source": [
    "thislist.pop(1)\n",
    "print(thislist)\n"
   ]
  },
  {
   "cell_type": "markdown",
   "metadata": {},
   "source": [
    "Python - Loop Lists\n",
    "\n",
    "Loop Through a List: You can loop through the list items by using a for loop:"
   ]
  },
  {
   "cell_type": "code",
   "execution_count": 19,
   "metadata": {},
   "outputs": [
    {
     "name": "stdout",
     "output_type": "stream",
     "text": [
      "apple\n",
      "banana\n",
      "cherry\n"
     ]
    }
   ],
   "source": [
    "fruits = [\"apple\", \"banana\", \"cherry\"]\n",
    "for x in fruits:\n",
    "  print(x)\n"
   ]
  },
  {
   "cell_type": "markdown",
   "metadata": {},
   "source": [
    "Loop Through the Index Numbers: You can also loop through the list items by referring to their index number:"
   ]
  },
  {
   "cell_type": "code",
   "execution_count": 20,
   "metadata": {},
   "outputs": [
    {
     "name": "stdout",
     "output_type": "stream",
     "text": [
      "apple\n",
      "banana\n",
      "cherry\n"
     ]
    }
   ],
   "source": [
    "for i in range(len(fruits)):\n",
    "  print(fruits[i])\n"
   ]
  },
  {
   "cell_type": "markdown",
   "metadata": {},
   "source": [
    "List Comprehension: List comprehension offers a shorter syntax when you want to create a new list based on the values of an existing list:"
   ]
  },
  {
   "cell_type": "code",
   "execution_count": 21,
   "metadata": {},
   "outputs": [
    {
     "name": "stdout",
     "output_type": "stream",
     "text": [
      "['apple', 'banana']\n"
     ]
    }
   ],
   "source": [
    "newlist = [x for x in fruits if \"a\" in x]\n",
    "print(newlist)\n"
   ]
  },
  {
   "cell_type": "markdown",
   "metadata": {},
   "source": [
    "newlist = [expression for item in iterable if condition == True]\n"
   ]
  },
  {
   "cell_type": "markdown",
   "metadata": {},
   "source": [
    "Here is the extracted text from the image:\n",
    "\n",
    "---\n",
    "\n",
    "**Python Built-in List Methods:**\n",
    "\n",
    "- **append()**: Adds an element at the end of the list.\n",
    "- **clear()**: Removes all elements from the list.\n",
    "- **copy()**: Returns a copy of the list.\n",
    "- **count()**: Returns the number of elements with the specified value.\n",
    "- **extend()**: Adds the elements of a list (or any iterable) to the end of the current list.\n",
    "- **index()**: Returns the index of the first element with the specified value.\n",
    "- **insert()**: Adds an element at a specified position.\n",
    "- **pop()**: Removes the element at a specified position.\n",
    "- **remove()**: Removes an item with a specified value.\n",
    "- **sort()**: Sorts the list.\n",
    "\n",
    "---\n",
    "\n"
   ]
  }
 ],
 "metadata": {
  "kernelspec": {
   "display_name": "quant",
   "language": "python",
   "name": "python3"
  },
  "language_info": {
   "codemirror_mode": {
    "name": "ipython",
    "version": 3
   },
   "file_extension": ".py",
   "mimetype": "text/x-python",
   "name": "python",
   "nbconvert_exporter": "python",
   "pygments_lexer": "ipython3",
   "version": "3.12.4"
  }
 },
 "nbformat": 4,
 "nbformat_minor": 2
}
