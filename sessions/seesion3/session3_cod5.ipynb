{
 "cells": [
  {
   "cell_type": "markdown",
   "metadata": {},
   "source": [
    "preprocessing"
   ]
  },
  {
   "cell_type": "markdown",
   "metadata": {},
   "source": [
    "1:minmax scaler"
   ]
  },
  {
   "cell_type": "code",
   "execution_count": 30,
   "metadata": {},
   "outputs": [
    {
     "name": "stdout",
     "output_type": "stream",
     "text": [
      "    Pregnancies      plas      pres  SkinThickness       test      mass  \\\n",
      "0      3.529412  7.437186  5.901639       3.535354   0.000000  5.007452   \n",
      "1      0.588235  4.271357  5.409836       2.929293   0.000000  3.964232   \n",
      "2      4.705882  9.195980  5.245902       0.000000   0.000000  3.472429   \n",
      "3      0.588235  4.472362  5.409836       2.323232   1.111111  4.187779   \n",
      "4      0.000000  6.884422  3.278689       3.535354   1.985816  6.423249   \n",
      "5      2.941176  5.829146  6.065574       0.000000   0.000000  3.815201   \n",
      "6      1.764706  3.919598  4.098361       3.232323   1.040189  4.619970   \n",
      "7      5.882353  5.778894  0.000000       0.000000   0.000000  5.260805   \n",
      "8      1.176471  9.899497  5.737705       4.545455   6.418440  4.545455   \n",
      "9      4.705882  6.281407  7.868852       0.000000   0.000000  0.000000   \n",
      "10     2.352941  5.527638  7.540984       0.000000   0.000000  5.603577   \n",
      "11     5.882353  8.442211  6.065574       0.000000   0.000000  5.663189   \n",
      "12     5.882353  6.984925  6.557377       0.000000   0.000000  4.038748   \n",
      "13     0.588235  9.497487  4.918033       2.323232  10.000000  4.485842   \n",
      "14     2.941176  8.341709  5.901639       1.919192   2.068558  3.845007   \n",
      "15     4.117647  5.025126  0.000000       0.000000   0.000000  4.470939   \n",
      "16     0.000000  5.929648  6.885246       4.747475   2.718676  6.825633   \n",
      "17     4.117647  5.376884  6.065574       0.000000   0.000000  4.411326   \n",
      "18     0.588235  5.175879  2.459016       3.838384   0.981087  6.453055   \n",
      "19     0.588235  5.778894  5.737705       3.030303   1.134752  5.156483   \n",
      "\n",
      "       pedia       Age  class  \n",
      "0   2.344150  4.833333   10.0  \n",
      "1   1.165670  1.666667    0.0  \n",
      "2   2.536294  1.833333   10.0  \n",
      "3   0.380017  0.000000    0.0  \n",
      "4   9.436379  2.000000   10.0  \n",
      "5   0.525192  1.500000    0.0  \n",
      "6   0.725875  0.833333   10.0  \n",
      "7   0.239112  1.333333    0.0  \n",
      "8   0.341588  5.333333   10.0  \n",
      "9   0.657558  5.500000   10.0  \n",
      "10  0.482494  1.500000    0.0  \n",
      "11  1.959863  2.166667   10.0  \n",
      "12  5.819812  6.000000    0.0  \n",
      "13  1.366354  6.333333   10.0  \n",
      "14  2.173356  5.000000   10.0  \n",
      "15  1.733561  1.833333   10.0  \n",
      "16  2.019641  1.666667   10.0  \n",
      "17  0.751494  1.666667   10.0  \n",
      "18  0.448335  2.000000    0.0  \n",
      "19  1.925705  1.833333   10.0  \n"
     ]
    }
   ],
   "source": [
    "import pandas as pd\n",
    "from numpy import set_printoptions\n",
    "from sklearn import preprocessing\n",
    "\n",
    "names=['Pregnancies','plas','pres','SkinThickness','test','mass','pedia','Age','class']\n",
    "dataframe = pd.read_csv('pima-indians-diabetes.csv',names=names)\n",
    "# print(dataframe.head())\n",
    "array = dataframe.values\n",
    "data_rescaled = preprocessing.MinMaxScaler(feature_range=(0, 10))\n",
    "rescaledX = data_rescaled.fit_transform(array)\n",
    "set_printoptions(precision=1)\n",
    "df2=pd.DataFrame(rescaledX,columns=names)\n",
    "\n",
    "\n",
    "print(df2.head(20))"
   ]
  },
  {
   "cell_type": "markdown",
   "metadata": {},
   "source": [
    "normalizer scaler"
   ]
  },
  {
   "cell_type": "code",
   "execution_count": 47,
   "metadata": {},
   "outputs": [
    {
     "name": "stdout",
     "output_type": "stream",
     "text": [
      "[[0.  0.4 0.2 ... 0.  0.1 0. ]\n",
      " [0.  0.4 0.3 ... 0.  0.1 0. ]\n",
      " [0.  0.6 0.2 ... 0.  0.1 0. ]\n",
      " ...\n",
      " [0.  0.3 0.2 ... 0.  0.1 0. ]\n",
      " [0.  0.5 0.2 ... 0.  0.2 0. ]\n",
      " [0.  0.4 0.3 ... 0.  0.1 0. ]] \n",
      "\n",
      "\n",
      "[[0.  0.8 0.4 ... 0.  0.3 0. ]\n",
      " [0.  0.7 0.6 ... 0.  0.3 0. ]\n",
      " [0.  0.9 0.3 ... 0.  0.2 0. ]\n",
      " ...\n",
      " [0.  0.7 0.4 ... 0.  0.2 0. ]\n",
      " [0.  0.8 0.4 ... 0.  0.3 0. ]\n",
      " [0.  0.7 0.6 ... 0.  0.2 0. ]]\n"
     ]
    }
   ],
   "source": [
    "from sklearn.preprocessing import Normalizer\n",
    "data_to_normalize = pd.read_csv('pima-indians-diabetes.csv',names=names)\n",
    "# print(data_to_normalize.head())\n",
    "array = data_to_normalize.values\n",
    "data_normalized = Normalizer( norm='l2')\n",
    "data_normalized2 = Normalizer( norm='l1')\n",
    "df3_L1=data_normalized2.fit(array)\n",
    "df3_L1=data_normalized2.transform(array)\n",
    "\n",
    "df3_L2=data_normalized.fit(array)\n",
    "df3_L2=data_normalized.transform(array)\n",
    "print(df3_L1,\"\\n\\n\")\n",
    "print(df3_L2)"
   ]
  },
  {
   "cell_type": "markdown",
   "metadata": {},
   "source": [
    "pinarization"
   ]
  },
  {
   "cell_type": "code",
   "execution_count": 51,
   "metadata": {},
   "outputs": [
    {
     "name": "stdout",
     "output_type": "stream",
     "text": [
      "     Pregnancies  plas  pres  SkinThickness  test  mass  pedia  Age  class\n",
      "0            1.0   1.0   1.0            1.0   0.0   1.0    1.0  1.0    1.0\n",
      "1            1.0   1.0   1.0            1.0   0.0   1.0    0.0  1.0    0.0\n",
      "2            1.0   1.0   1.0            0.0   0.0   1.0    1.0  1.0    1.0\n",
      "3            1.0   1.0   1.0            1.0   1.0   1.0    0.0  1.0    0.0\n",
      "4            0.0   1.0   1.0            1.0   1.0   1.0    1.0  1.0    1.0\n",
      "..           ...   ...   ...            ...   ...   ...    ...  ...    ...\n",
      "763          1.0   1.0   1.0            1.0   1.0   1.0    0.0  1.0    0.0\n",
      "764          1.0   1.0   1.0            1.0   0.0   1.0    0.0  1.0    0.0\n",
      "765          1.0   1.0   1.0            1.0   1.0   1.0    0.0  1.0    0.0\n",
      "766          1.0   1.0   1.0            0.0   0.0   1.0    0.0  1.0    1.0\n",
      "767          1.0   1.0   1.0            1.0   0.0   1.0    0.0  1.0    0.0\n",
      "\n",
      "[768 rows x 9 columns]\n"
     ]
    }
   ],
   "source": [
    "from sklearn.preprocessing import Binarizer\n",
    "data_to_binarize = pd.read_csv('pima-indians-diabetes.csv',names=names)\n",
    "# print(data_to_binarize.head())\n",
    "array = data_to_binarize.values\n",
    "data_binarized = Binarizer(threshold=0.5).fit(array)\n",
    "df4=data_binarized.transform(array)\n",
    "\n",
    "df4=pd.DataFrame(df4,columns=names)\n",
    "print(df4)"
   ]
  },
  {
   "cell_type": "markdown",
   "metadata": {},
   "source": [
    "standard scaler"
   ]
  },
  {
   "cell_type": "code",
   "execution_count": 53,
   "metadata": {},
   "outputs": [
    {
     "name": "stdout",
     "output_type": "stream",
     "text": [
      "   Pregnancies      plas      pres  SkinThickness      test      mass  \\\n",
      "0     0.639947  0.848324  0.149641       0.907270 -0.692891  0.204013   \n",
      "1    -0.844885 -1.123396 -0.160546       0.530902 -0.692891 -0.684422   \n",
      "2     1.233880  1.943724 -0.263941      -1.288212 -0.692891 -1.103255   \n",
      "3    -0.844885 -0.998208 -0.160546       0.154533  0.123302 -0.494043   \n",
      "4    -1.141852  0.504055 -1.504687       0.907270  0.765836  1.409746   \n",
      "\n",
      "      pedia       Age     class  \n",
      "0  0.468492  1.425995  1.365896  \n",
      "1 -0.365061 -0.190672 -0.732120  \n",
      "2  0.604397 -0.105584  1.365896  \n",
      "3 -0.920763 -1.041549 -0.732120  \n",
      "4  5.484909 -0.020496  1.365896  \n"
     ]
    }
   ],
   "source": [
    "from sklearn.preprocessing import StandardScaler\n",
    "data_to_standardize = pd.read_csv('pima-indians-diabetes.csv',names=names)\n",
    "# print(data_to_standardize.head())\n",
    "array = data_to_standardize.values  \n",
    "scaler = StandardScaler().fit(array)\n",
    "rescaledX = scaler.transform(array)\n",
    "df5=pd.DataFrame(rescaledX,columns=names)\n",
    "\n",
    "print(df5.head(5))"
   ]
  },
  {
   "cell_type": "markdown",
   "metadata": {},
   "source": [
    "lable incoder"
   ]
  },
  {
   "cell_type": "code",
   "execution_count": 65,
   "metadata": {},
   "outputs": [
    {
     "name": "stdout",
     "output_type": "stream",
     "text": [
      "Encoded values = [2 0 2 1 0 4 3]\n",
      "Decoded values = ['red' 'black' 'red' 'green' 'black' 'yellow' 'white']\n"
     ]
    },
    {
     "data": {
      "text/plain": [
       "numpy.ndarray"
      ]
     },
     "execution_count": 65,
     "metadata": {},
     "output_type": "execute_result"
    }
   ],
   "source": [
    "from sklearn.preprocessing import LabelEncoder\n",
    "import numpy as np\n",
    "input_labels =np.array(['red', 'black', 'red', 'green', 'black', 'yellow', 'white']) \n",
    "encoder = LabelEncoder()\n",
    "encoder.fit(input_labels)\n",
    "encoded_values = encoder.transform(input_labels)\n",
    "\n",
    "print(\"Encoded values =\", (encoded_values))\n",
    "decoded_list = encoder.inverse_transform(encoded_values)\n",
    "print(\"Decoded values =\", (decoded_list))\n",
    "type(encoded_values)"
   ]
  },
  {
   "cell_type": "markdown",
   "metadata": {},
   "source": [
    "imputation"
   ]
  },
  {
   "cell_type": "code",
   "execution_count": 72,
   "metadata": {},
   "outputs": [
    {
     "name": "stdout",
     "output_type": "stream",
     "text": [
      "[[1.  2.  6.5 5.7]\n",
      " [3.  5.5 6.5 1. ]\n",
      " [5.  5.5 6.  8. ]\n",
      " [3.  9.  7.  8. ]]\n"
     ]
    }
   ],
   "source": [
    "from sklearn.impute import SimpleImputer\n",
    "import numpy as np\n",
    "data_to_be_imputed = [[1,2,np.nan,np.nan],[3,np.nan,np.nan,1],[5,np.nan,6,8],[np.nan,9,7,8]]\n",
    "array = np.array(data_to_be_imputed)\n",
    "imputer = SimpleImputer(strategy='mean')\n",
    "imputer.fit(array)\n",
    "array = imputer.transform(array)\n",
    "print(array)"
   ]
  }
 ],
 "metadata": {
  "kernelspec": {
   "display_name": "quant",
   "language": "python",
   "name": "python3"
  },
  "language_info": {
   "codemirror_mode": {
    "name": "ipython",
    "version": 3
   },
   "file_extension": ".py",
   "mimetype": "text/x-python",
   "name": "python",
   "nbconvert_exporter": "python",
   "pygments_lexer": "ipython3",
   "version": "3.12.4"
  }
 },
 "nbformat": 4,
 "nbformat_minor": 2
}
