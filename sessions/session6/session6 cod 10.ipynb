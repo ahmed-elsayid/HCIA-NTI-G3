{
 "cells": [
  {
   "cell_type": "markdown",
   "metadata": {},
   "source": [
    "### support vector machine"
   ]
  },
  {
   "cell_type": "code",
   "execution_count": null,
   "metadata": {},
   "outputs": [],
   "source": [
    "import pandas as pd\n",
    "import matplotlib.pyplot as plt\n",
    "from sklearn import datasets,svm\n",
    "from sklearn.inspection import DecisionBoundaryDisplay"
   ]
  },
  {
   "cell_type": "code",
   "execution_count": 1,
   "metadata": {},
   "outputs": [
    {
     "ename": "NameError",
     "evalue": "name 'datasets' is not defined",
     "output_type": "error",
     "traceback": [
      "\u001b[0;31m---------------------------------------------------------------------------\u001b[0m",
      "\u001b[0;31mNameError\u001b[0m                                 Traceback (most recent call last)",
      "Cell \u001b[0;32mIn[1], line 1\u001b[0m\n\u001b[0;32m----> 1\u001b[0m data\u001b[38;5;241m=\u001b[39m(\u001b[43mdatasets\u001b[49m\u001b[38;5;241m.\u001b[39mload_iris())\n\u001b[1;32m      2\u001b[0m \u001b[38;5;66;03m# print(data.target_names)\u001b[39;00m\n\u001b[1;32m      3\u001b[0m \u001b[38;5;66;03m# print(data.feature_names)\u001b[39;00m\n\u001b[1;32m      4\u001b[0m df\u001b[38;5;241m=\u001b[39mpd\u001b[38;5;241m.\u001b[39mDataFrame(data\u001b[38;5;241m.\u001b[39mdata,columns\u001b[38;5;241m=\u001b[39mdata\u001b[38;5;241m.\u001b[39mfeature_names)\n",
      "\u001b[0;31mNameError\u001b[0m: name 'datasets' is not defined"
     ]
    }
   ],
   "source": [
    "data=(datasets.load_iris())\n",
    "# print(data.target_names)\n",
    "# print(data.feature_names)\n",
    "df=pd.DataFrame(data.data,columns=data.feature_names)\n",
    "df['target']=data.target\n",
    "df['target_name']=df['target'].apply(lambda x:data.target_names[x])\n",
    "#splitting the data\n",
    "from sklearn.model_selection import train_test_split\n",
    "from sklearn.metrics import accuracy_score\n",
    "x=df[['sepal length (cm)','sepal width (cm)']]\n",
    "y=df['target']\n",
    "x_train,x_test,y_train,y_test=train_test_split(x,y,test_size=0.2)\n",
    "\n",
    "#creating the model\n",
    "kernal=['linear','poly','rbf']\n",
    "for i in kernal:\n",
    "\n",
    "\n",
    "    model=svm.SVC(kernel=i)\n",
    "    model.fit(x_train,y_train)\n",
    "    from sklearn.metrics import classification_report\n",
    "    y_pred=model.predict(x_test)\n",
    "    print(accuracy_score(y_test,y_pred))\n",
    "    title='SVM(Linear)'\n",
    "    x_label='sepal length (cm)'\n",
    "    y_label='sepal width (cm)'\n",
    "    x0=x_train['sepal length (cm)']\n",
    "    x1=x_train['sepal width (cm)']\n",
    "    fig,ax=plt.subplots(figsize=(10,6))\n",
    "    DecisionBoundaryDisplay.from_estimator(model,x_train,ax=ax,cmap=plt.cm.coolwarm)\n",
    "    ax.scatter(x0,x1,c=y_train,cmap=plt.cm.coolwarm,edgecolors='k')\n",
    "\n"
   ]
  },
  {
   "cell_type": "markdown",
   "metadata": {},
   "source": [
    "\n",
    "### example2"
   ]
  },
  {
   "cell_type": "code",
   "execution_count": 69,
   "metadata": {},
   "outputs": [
    {
     "name": "stdout",
     "output_type": "stream",
     "text": [
      "0.7662337662337663\n",
      "0.7597402597402597\n",
      "0.7727272727272727\n"
     ]
    }
   ],
   "source": [
    "\n",
    "columns_names=['Pregnancies','Glucose','BP','SkinThickness','Insulin','BMI','pedigree','Age','label']\n",
    "data2=pd.read_csv(\"diabetes.csv\",names=columns_names)\n",
    "x=data2.drop('label',axis=1)\n",
    "y=data2['label']\n",
    "x_train,x_test,y_train,y_test=train_test_split(x,y,test_size=0.2)\n",
    "for i in ['linear','poly','rbf']:\n",
    "    model=svm.SVC(kernel=i,C=6,random_state=32)  \n",
    "    model.fit(x_train,y_train)\n",
    "    y_pred=model.predict(x_test)\n",
    "    print(accuracy_score(y_test,y_pred))\n"
   ]
  }
 ],
 "metadata": {
  "kernelspec": {
   "display_name": "quant",
   "language": "python",
   "name": "python3"
  },
  "language_info": {
   "codemirror_mode": {
    "name": "ipython",
    "version": 3
   },
   "file_extension": ".py",
   "mimetype": "text/x-python",
   "name": "python",
   "nbconvert_exporter": "python",
   "pygments_lexer": "ipython3",
   "version": "3.12.4"
  }
 },
 "nbformat": 4,
 "nbformat_minor": 2
}
