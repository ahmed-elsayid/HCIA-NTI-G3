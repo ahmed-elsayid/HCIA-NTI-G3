{
 "cells": [
  {
   "cell_type": "markdown",
   "metadata": {},
   "source": [
    "\n",
    "# Logistic Regression\n",
    "\n",
    "\n"
   ]
  },
  {
   "cell_type": "markdown",
   "metadata": {},
   "source": [
    "### import libs"
   ]
  },
  {
   "cell_type": "code",
   "execution_count": 1,
   "metadata": {},
   "outputs": [
    {
     "name": "stderr",
     "output_type": "stream",
     "text": [
      "Matplotlib is building the font cache; this may take a moment.\n"
     ]
    }
   ],
   "source": [
    "import pandas as pd\n",
    "import numpy as np\n",
    "import matplotlib.pyplot as plt\n",
    "from sklearn import linear_model\n",
    "from sklearn.model_selection import train_test_split\n"
   ]
  },
  {
   "cell_type": "markdown",
   "metadata": {},
   "source": [
    "### read file data split data"
   ]
  },
  {
   "cell_type": "code",
   "execution_count": 7,
   "metadata": {},
   "outputs": [
    {
     "name": "stdout",
     "output_type": "stream",
     "text": [
      "0.7705627705627706\n",
      "f1scor 0.6074074074074074\n",
      "              precision    recall  f1-score   support\n",
      "\n",
      "           0       0.82      0.86      0.84       159\n",
      "           1       0.65      0.57      0.61        72\n",
      "\n",
      "    accuracy                           0.77       231\n",
      "   macro avg       0.73      0.72      0.72       231\n",
      "weighted avg       0.76      0.77      0.77       231\n",
      "\n"
     ]
    }
   ],
   "source": [
    "from sklearn.linear_model import LogisticRegression\n",
    "from sklearn.metrics import accuracy_score,f1_score,confusion_matrix,recall_score,precision_score\n",
    "from sklearn.metrics import classification_report   \n",
    "data=pd.read_csv('diabetes.csv')\n",
    "columns_names=['Pregnancies','Glucose','BP','SkinThickness','Insulin','BMI','pedigree','Age','label']\n",
    "data.columns=columns_names\n",
    "\n",
    "y_df=(data['label'])\n",
    "x_df=(data.drop('label',axis=1))\n",
    "x_trin,x_test,y_train,y_test=train_test_split(x_df,y_df,test_size=0.3,random_state=0)\n",
    "logistic=LogisticRegression(max_iter=1000)\n",
    "logistic.fit(x_trin,y_train)\n",
    "score=logistic.score(x_test,y_test)\n",
    "print(accuracy_score(y_test,logistic.predict(x_test)))\n",
    "\n",
    "print('f1scor',f1_score(y_test,logistic.predict(x_test)))\n",
    "# print('recall',recall_score(y_test,logistic.predict(x_test)))\n",
    "# print('precision',precision_score(y_test,logistic.predict(x_test)))\n",
    "# print('confusion',confusion_matrix(y_test,logistic.predict(x_test)))\n",
    "classification=classification_report(y_test,logistic.predict(x_test))\n",
    "print(classification)\n",
    "print(score)    "
   ]
  }
 ],
 "metadata": {
  "kernelspec": {
   "display_name": "quant",
   "language": "python",
   "name": "python3"
  },
  "language_info": {
   "codemirror_mode": {
    "name": "ipython",
    "version": 3
   },
   "file_extension": ".py",
   "mimetype": "text/x-python",
   "name": "python",
   "nbconvert_exporter": "python",
   "pygments_lexer": "ipython3",
   "version": "3.12.4"
  }
 },
 "nbformat": 4,
 "nbformat_minor": 2
}
