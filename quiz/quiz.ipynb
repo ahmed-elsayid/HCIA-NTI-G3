{
 "cells": [
  {
   "cell_type": "code",
   "execution_count": 3,
   "metadata": {},
   "outputs": [],
   "source": [
    "import pandas as pd\n",
    "#lapble encoding\n",
    "from sklearn.preprocessing import LabelEncoder\n",
    "from sklearn.model_selection import train_test_split\n",
    "#all models\n",
    "#random forest\n",
    "from sklearn.ensemble import RandomForestClassifier\n",
    "#decision tree\n",
    "from sklearn.tree import DecisionTreeClassifier\n",
    "#svm\n",
    "from sklearn.svm import SVC\n",
    "#knn\n",
    "from sklearn.neighbors import KNeighborsClassifier\n",
    "#naive bayes\n",
    "from sklearn.naive_bayes import GaussianNB\n",
    "\n",
    "\n",
    "\n",
    "from sklearn.metrics import accuracy_score\n"
   ]
  },
  {
   "cell_type": "code",
   "execution_count": 4,
   "metadata": {},
   "outputs": [
    {
     "name": "stderr",
     "output_type": "stream",
     "text": [
      "C:\\Users\\mahmoud\\AppData\\Local\\Temp\\ipykernel_9276\\1628471396.py:7: SettingWithCopyWarning: \n",
      "A value is trying to be set on a copy of a slice from a DataFrame.\n",
      "Try using .loc[row_indexer,col_indexer] = value instead\n",
      "\n",
      "See the caveats in the documentation: https://pandas.pydata.org/pandas-docs/stable/user_guide/indexing.html#returning-a-view-versus-a-copy\n",
      "  encoded_data['Embarked']=le.fit_transform(encoded_data['Embarked'])\n",
      "C:\\Users\\mahmoud\\AppData\\Local\\Temp\\ipykernel_9276\\1628471396.py:8: SettingWithCopyWarning: \n",
      "A value is trying to be set on a copy of a slice from a DataFrame.\n",
      "Try using .loc[row_indexer,col_indexer] = value instead\n",
      "\n",
      "See the caveats in the documentation: https://pandas.pydata.org/pandas-docs/stable/user_guide/indexing.html#returning-a-view-versus-a-copy\n",
      "  encoded_data['Gender']=le.fit_transform(encoded_data['Gender']  )\n",
      "C:\\Users\\mahmoud\\AppData\\Local\\Temp\\ipykernel_9276\\1628471396.py:13: FutureWarning: A value is trying to be set on a copy of a DataFrame or Series through chained assignment using an inplace method.\n",
      "The behavior will change in pandas 3.0. This inplace method will never work because the intermediate object on which we are setting values always behaves as a copy.\n",
      "\n",
      "For example, when doing 'df[col].method(value, inplace=True)', try using 'df.method({col: value}, inplace=True)' or df[col] = df[col].method(value) instead, to perform the operation inplace on the original object.\n",
      "\n",
      "\n",
      "  df['Age'].fillna(df['Age'].mean(),inplace=True)\n"
     ]
    },
    {
     "data": {
      "text/plain": [
       "PassengerId    0\n",
       "Pclass         0\n",
       "Age            0\n",
       "SibSp          0\n",
       "Parch          0\n",
       "Fare           0\n",
       "Survived       0\n",
       "Embarked       0\n",
       "Gender         0\n",
       "dtype: int64"
      ]
     },
     "execution_count": 4,
     "metadata": {},
     "output_type": "execute_result"
    }
   ],
   "source": [
    "df=pd.read_csv('titanic.csv')  \n",
    "# leve only(Embarked,Gender,servived)\n",
    "encoded_data=df[['Embarked','Gender']]\n",
    "df.drop(['Embarked','Gender'],axis=1,inplace=True)\n",
    "#encoding\n",
    "le=LabelEncoder()\n",
    "encoded_data['Embarked']=le.fit_transform(encoded_data['Embarked'])\n",
    "encoded_data['Gender']=le.fit_transform(encoded_data['Gender']  )\n",
    "#merging\n",
    "df=pd.concat([df,encoded_data],axis=1)\n",
    "df.drop(['Name','Ticket','Cabin'],axis=1,inplace=True)\n",
    "#filling missing values\n",
    "df['Age'].fillna(df['Age'].mean(),inplace=True)\n",
    "df.isnull().sum()\n"
   ]
  },
  {
   "cell_type": "code",
   "execution_count": 5,
   "metadata": {},
   "outputs": [
    {
     "data": {
      "text/plain": [
       "0      0\n",
       "1      1\n",
       "2      1\n",
       "3      1\n",
       "4      0\n",
       "      ..\n",
       "886    0\n",
       "887    1\n",
       "888    0\n",
       "889    1\n",
       "890    0\n",
       "Name: Survived, Length: 891, dtype: int64"
      ]
     },
     "execution_count": 5,
     "metadata": {},
     "output_type": "execute_result"
    }
   ],
   "source": [
    "x=df.drop('Survived',axis=1)\n",
    "y=df['Survived']\n",
    "x_train,x_test,y_train,y_test=train_test_split(x,y,test_size=0.2,random_state=0)\n",
    "y"
   ]
  },
  {
   "cell_type": "code",
   "execution_count": 6,
   "metadata": {},
   "outputs": [
    {
     "name": "stdout",
     "output_type": "stream",
     "text": [
      "random forest accuracy 0.8435754189944135\n",
      "decision tree accuracy 0.7821229050279329\n",
      "svm accuracy of kernalalinear 0.7877094972067039\n",
      "svm accuracy of kernalapoly 0.6480446927374302\n",
      "svm accuracy of kernalarbf 0.659217877094972\n",
      "knn accuracy 0.6368715083798883\n",
      "naive bayes accuracy 0.7877094972067039\n"
     ]
    }
   ],
   "source": [
    "#random forest\n",
    "rf=RandomForestClassifier()\n",
    "rf.fit(x_train,y_train)\n",
    "y_pred=rf.predict(x_test)\n",
    "print(\"random forest accuracy\",accuracy_score(y_test,y_pred))\n",
    "#decision tree\n",
    "dt=DecisionTreeClassifier()\n",
    "dt.fit(x_train,y_train)\n",
    "y_pred=dt.predict(x_test)\n",
    "print(\"decision tree accuracy\",accuracy_score(y_test,y_pred))\n",
    "#svm\n",
    "kernals=['linear','poly','rbf']\n",
    "for k in kernals:\n",
    "    svm=SVC(kernel=k)   \n",
    "    svm.fit(x_train,y_train)\n",
    "    y_pred=svm.predict(x_test)\n",
    "    print(f\"svm accuracy of kernala{k}\",accuracy_score(y_test,y_pred))\n",
    "\n",
    "#knn\n",
    "knn=KNeighborsClassifier()\n",
    "knn.fit(x_train,y_train)\n",
    "y_pred=knn.predict(x_test)\n",
    "print(\"knn accuracy\",accuracy_score(y_test,y_pred))\n",
    "#naive bayes\n",
    "nb=GaussianNB()\n",
    "nb.fit(x_train,y_train)\n",
    "y_pred=nb.predict(x_test)\n",
    "print(\"naive bayes accuracy\",accuracy_score(y_test,y_pred))\n"
   ]
  },
  {
   "cell_type": "code",
   "execution_count": 31,
   "metadata": {},
   "outputs": [
    {
     "name": "stdout",
     "output_type": "stream",
     "text": [
      "[[ 9 12 15]\n",
      " [19 26 33]\n",
      " [29 40 51]]\n",
      "[[30 36 42]\n",
      " [66 81 96]]\n"
     ]
    },
    {
     "ename": "ValueError",
     "evalue": "operands could not be broadcast together with shapes (3,3) (2,3) ",
     "output_type": "error",
     "traceback": [
      "\u001b[1;31m---------------------------------------------------------------------------\u001b[0m",
      "\u001b[1;31mValueError\u001b[0m                                Traceback (most recent call last)",
      "Cell \u001b[1;32mIn[31], line 16\u001b[0m\n\u001b[0;32m     14\u001b[0m \u001b[38;5;28mprint\u001b[39m(B\u001b[38;5;241m.\u001b[39mdot(C))\n\u001b[0;32m     15\u001b[0m \u001b[38;5;66;03m#AB-BC\u001b[39;00m\n\u001b[1;32m---> 16\u001b[0m \u001b[38;5;28mprint\u001b[39m(\u001b[43mA\u001b[49m\u001b[38;5;241;43m.\u001b[39;49m\u001b[43mdot\u001b[49m\u001b[43m(\u001b[49m\u001b[43mB\u001b[49m\u001b[43m)\u001b[49m\u001b[38;5;241;43m-\u001b[39;49m\u001b[43mB\u001b[49m\u001b[38;5;241;43m.\u001b[39;49m\u001b[43mdot\u001b[49m\u001b[43m(\u001b[49m\u001b[43mC\u001b[49m\u001b[43m)\u001b[49m)\n",
      "\u001b[1;31mValueError\u001b[0m: operands could not be broadcast together with shapes (3,3) (2,3) "
     ]
    }
   ],
   "source": [
    "import numpy as np\n",
    "#2*3 matrix\n",
    "# 3rows and 2 columns\n",
    "A=np.array([[1,2],[3,4],[5,6]])\n",
    "#2 rows and 3 columns\n",
    "B=np.array([[1,2,3],[4,5,6]])\n",
    "#3 rows and 3 columns\n",
    "C=np.array([[1,2,3],[4,5,6],[7,8,9]])\n",
    "#mul of A and B\n",
    "print(A.dot(B))\n",
    "# #mul of A and C\n",
    "# print(A.dot(C))\n",
    "#mul of B and C\n",
    "print(B.dot(C))\n",
    "#AB-BC\n",
    "print(A.dot(B)-B.dot(C))"
   ]
  }
 ],
 "metadata": {
  "kernelspec": {
   "display_name": "Python 3",
   "language": "python",
   "name": "python3"
  },
  "language_info": {
   "codemirror_mode": {
    "name": "ipython",
    "version": 3
   },
   "file_extension": ".py",
   "mimetype": "text/x-python",
   "name": "python",
   "nbconvert_exporter": "python",
   "pygments_lexer": "ipython3",
   "version": "3.12.4"
  }
 },
 "nbformat": 4,
 "nbformat_minor": 2
}
